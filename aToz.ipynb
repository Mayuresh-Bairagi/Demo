{
 "cells": [
  {
   "cell_type": "markdown",
   "id": "a7ee904a",
   "metadata": {},
   "source": [
    "### If you have a CSV or Excel file, load the data using the following code. If you don’t have a file, create the data manually, then save it as a CSV or Excel file and load it."
   ]
  },
  {
   "cell_type": "code",
   "execution_count": null,
   "id": "f90c52c5",
   "metadata": {},
   "outputs": [],
   "source": [
    "import pandas as pd\n",
    "\n",
    "# Read a CSV file into a DataFrame\n",
    "df = pd.read_csv('file.csv', encoding='utf-8')\n",
    "\n",
    "# Read a excel file into a DataFrame\n",
    "df = pd.read_excel('file.xlsx', sheet_name='Sheet1', encoding='utf-8')\n"
   ]
  },
  {
   "cell_type": "markdown",
   "id": "51b12a3d",
   "metadata": {},
   "source": [
    "## Or make Pandas dataframe with the help dict"
   ]
  },
  {
   "cell_type": "code",
   "execution_count": null,
   "id": "a1e4eb7e",
   "metadata": {},
   "outputs": [],
   "source": [
    "import pandas as pd\n",
    "import random\n",
    "\n",
    "random_dict = {\n",
    "    'Name': ['Alice', 'Bob', 'Charlie', 'David'],\n",
    "    'Age': [random.randint(20, 40) for _ in range(4)],\n",
    "    'City': ['New York', 'Los Angeles', 'Chicago', 'Houston']\n",
    "}\n",
    "\n",
    "df = pd.DataFrame(random_dict)\n",
    "\n",
    "print(df)\n"
   ]
  },
  {
   "cell_type": "markdown",
   "id": "934a6155",
   "metadata": {},
   "source": [
    "## Overview"
   ]
  },
  {
   "cell_type": "markdown",
   "id": "4b94463e",
   "metadata": {},
   "source": [
    "df.head()\n",
    "df.info()\n",
    "df.describe()\n",
    "df.columns\n",
    "df.dtypes"
   ]
  },
  {
   "cell_type": "markdown",
   "id": "c63060fd",
   "metadata": {},
   "source": [
    "#### When handling missing data, first check the amount of missing values. If the missing data is minimal, replace it with the mean. Otherwise, remove the rows using df.dropna(inplace=True)."
   ]
  },
  {
   "cell_type": "code",
   "execution_count": null,
   "id": "3a58110e",
   "metadata": {},
   "outputs": [],
   "source": [
    "# Detect\n",
    "df.isnull().sum()\n",
    "\n",
    "# Drop\n",
    "df.dropna(inplace=True)\n",
    "\n",
    "# Fill\n",
    "df.fillna(0, inplace=True)\n",
    "df['col'].fillna(df['col'].mean(), inplace=True)"
   ]
  },
  {
   "cell_type": "code",
   "execution_count": null,
   "id": "c34c039e",
   "metadata": {},
   "outputs": [],
   "source": [
    "#Duplicates\n",
    "df.duplicated().sum()\n",
    "df.drop_duplicates(inplace=True)"
   ]
  },
  {
   "cell_type": "markdown",
   "id": "41913fc4",
   "metadata": {},
   "source": [
    "## Label Encoding (Convert categories to numbers)"
   ]
  },
  {
   "cell_type": "code",
   "execution_count": null,
   "id": "6f33fb57",
   "metadata": {},
   "outputs": [],
   "source": [
    "from sklearn.preprocessing import LabelEncoder\n",
    "\n",
    "le = LabelEncoder()\n",
    "df['category_encoded'] = le.fit_transform(df['category'])   # category_encoded is the new column with encoded values"
   ]
  },
  {
   "cell_type": "markdown",
   "id": "95985a2b",
   "metadata": {},
   "source": [
    "## One-Hot Encoding (Create binary columns for each category)"
   ]
  },
  {
   "cell_type": "code",
   "execution_count": null,
   "id": "b64b522f",
   "metadata": {},
   "outputs": [],
   "source": [
    "df = pd.get_dummies(df, columns=['category'], prefix='category', drop_first=False) "
   ]
  },
  {
   "cell_type": "markdown",
   "id": "b0e31d40",
   "metadata": {},
   "source": [
    "####  Separate the data into X and y, where X contains the independent variables (features), and y contains the dependent variable (target or predicted value)."
   ]
  },
  {
   "cell_type": "code",
   "execution_count": null,
   "id": "40900cac",
   "metadata": {},
   "outputs": [],
   "source": [
    "X = df.drop('target_column', axis=1)  # Replace 'target_column' with the actual column name\n",
    "y = df['target_column']"
   ]
  },
  {
   "cell_type": "code",
   "execution_count": null,
   "id": "ab454b03",
   "metadata": {},
   "outputs": [],
   "source": [
    "from sklearn.model_selection import train_test_split\n",
    "from sklearn.metrics import accuracy_score, confusion_matrix, classification_report\n",
    "from sklearn.metrics import mean_squared_error, r2_score\n",
    "\n",
    "X_train, X_test, y_train, y_test = train_test_split(\n",
    "    X, y, test_size=0.2, random_state=43,\n",
    ")     "
   ]
  },
  {
   "cell_type": "markdown",
   "id": "c17ad729",
   "metadata": {},
   "source": [
    "### Linear Regression"
   ]
  },
  {
   "cell_type": "code",
   "execution_count": null,
   "id": "dd2404e3",
   "metadata": {},
   "outputs": [],
   "source": [
    "from sklearn.linear_model import LinearRegression\n",
    "\n",
    "model = LinearRegression()\n",
    "model.fit(X_train, y_train)\n",
    "\n",
    "y_pred = model.predict(X_test)\n",
    "\n",
    "print(\"Linear Regression:\")\n",
    "print(\"MSE:\", mean_squared_error(y_test, y_pred))\n",
    "print(\"R²:\", r2_score(y_test, y_pred))\n"
   ]
  },
  {
   "cell_type": "markdown",
   "id": "69921aca",
   "metadata": {},
   "source": [
    "### Polynomial Regression"
   ]
  },
  {
   "cell_type": "code",
   "execution_count": null,
   "id": "365436bd",
   "metadata": {},
   "outputs": [],
   "source": [
    "from sklearn.preprocessing import PolynomialFeatures\n",
    "from sklearn.pipeline import make_pipeline\n",
    "\n",
    "degree = 2\n",
    "poly_model = make_pipeline(PolynomialFeatures(degree), LinearRegression())\n",
    "poly_model.fit(X_train, y_train)\n",
    "\n",
    "y_pred = poly_model.predict(X_test)\n",
    "\n",
    "print(f\"Polynomial Regression (degree={degree}):\")\n",
    "print(\"MSE:\", mean_squared_error(y_test, y_pred))\n",
    "print(\"R²:\", r2_score(y_test, y_pred))\n"
   ]
  },
  {
   "cell_type": "markdown",
   "id": "aa8ea367",
   "metadata": {},
   "source": [
    "### Ridge Regression"
   ]
  },
  {
   "cell_type": "code",
   "execution_count": null,
   "id": "9d23e890",
   "metadata": {},
   "outputs": [],
   "source": [
    "from sklearn.linear_model import Ridge\n",
    "\n",
    "ridge = Ridge(alpha=1.0)\n",
    "ridge.fit(X_train, y_train)\n",
    "\n",
    "y_pred = ridge.predict(X_test)\n",
    "\n",
    "print(\"Ridge Regression:\")\n",
    "print(\"MSE:\", mean_squared_error(y_test, y_pred))\n",
    "print(\"R²:\", r2_score(y_test, y_pred))\n"
   ]
  },
  {
   "cell_type": "markdown",
   "id": "7e5691ed",
   "metadata": {},
   "source": [
    "### Lasso Regression"
   ]
  },
  {
   "cell_type": "code",
   "execution_count": null,
   "id": "d0620ff9",
   "metadata": {},
   "outputs": [],
   "source": [
    "from sklearn.linear_model import Lasso\n",
    "\n",
    "lasso = Lasso(alpha=0.1)\n",
    "lasso.fit(X_train, y_train)\n",
    "\n",
    "y_pred = lasso.predict(X_test)\n",
    "\n",
    "print(\"Lasso Regression:\")\n",
    "print(\"MSE:\", mean_squared_error(y_test, y_pred))\n",
    "print(\"R²:\", r2_score(y_test, y_pred))\n"
   ]
  },
  {
   "cell_type": "markdown",
   "id": "d3a5daca",
   "metadata": {},
   "source": [
    "### Logistic Regression"
   ]
  },
  {
   "cell_type": "code",
   "execution_count": null,
   "id": "41428404",
   "metadata": {},
   "outputs": [],
   "source": [
    "from sklearn.linear_model import LogisticRegression\n",
    "\n",
    "model = LogisticRegression()\n",
    "model.fit(X_train, y_train)\n",
    "y_pred = model.predict(X_test)\n",
    "\n",
    "print(\"Logistic Regression\")\n",
    "print(classification_report(y_test, y_pred))\n"
   ]
  },
  {
   "cell_type": "markdown",
   "id": "368f6163",
   "metadata": {},
   "source": [
    "### K-Nearest Neighbors (KNN)"
   ]
  },
  {
   "cell_type": "code",
   "execution_count": null,
   "id": "5555bb8a",
   "metadata": {},
   "outputs": [],
   "source": [
    "from sklearn.neighbors import KNeighborsClassifier\n",
    "\n",
    "num_neighbors = 3  # Set the number of neighbors for KNN\n",
    "model = KNeighborsClassifier(n_neighbors=num_neighbors)\n",
    "model.fit(X_train, y_train)\n",
    "y_pred = model.predict(X_test)\n",
    "\n",
    "print(\"KNN Classifier\")\n",
    "print(classification_report(y_test, y_pred))\n"
   ]
  },
  {
   "cell_type": "markdown",
   "id": "a3178c2f",
   "metadata": {},
   "source": [
    "### Support Vector Machine (SVM)"
   ]
  },
  {
   "cell_type": "code",
   "execution_count": null,
   "id": "4ffd1a76",
   "metadata": {},
   "outputs": [],
   "source": [
    "from sklearn.svm import SVC\n",
    "\n",
    "model = SVC(kernel='rbf')  # or 'linear'\n",
    "model.fit(X_train, y_train)\n",
    "y_pred = model.predict(X_test)\n",
    "\n",
    "print(\"SVM Classifier\")\n",
    "print(classification_report(y_test, y_pred))\n"
   ]
  },
  {
   "cell_type": "markdown",
   "id": "dae6255f",
   "metadata": {},
   "source": [
    "### Decision Tree Classifier"
   ]
  },
  {
   "cell_type": "code",
   "execution_count": null,
   "id": "eb8c4bb8",
   "metadata": {},
   "outputs": [],
   "source": [
    "from sklearn.tree import DecisionTreeClassifier\n",
    "\n",
    "model = DecisionTreeClassifier(random_state=42)\n",
    "model.fit(X_train, y_train)\n",
    "y_pred = model.predict(X_test)\n",
    "\n",
    "print(\"Decision Tree Classifier\")\n",
    "print(classification_report(y_test, y_pred))\n"
   ]
  },
  {
   "cell_type": "markdown",
   "id": "49612b3d",
   "metadata": {},
   "source": [
    "### Random Forest Classifier"
   ]
  },
  {
   "cell_type": "code",
   "execution_count": null,
   "id": "3f328629",
   "metadata": {},
   "outputs": [],
   "source": [
    "from sklearn.ensemble import RandomForestClassifier\n",
    "\n",
    "model = RandomForestClassifier(n_estimators=100, random_state=42)\n",
    "model.fit(X_train, y_train)\n",
    "y_pred = model.predict(X_test)\n",
    "\n",
    "print(\"Random Forest Classifier\")\n",
    "print(classification_report(y_test, y_pred))\n"
   ]
  },
  {
   "cell_type": "markdown",
   "id": "d5c2d885",
   "metadata": {},
   "source": [
    "###  Naive Bayes"
   ]
  },
  {
   "cell_type": "code",
   "execution_count": null,
   "id": "2ae47113",
   "metadata": {},
   "outputs": [],
   "source": [
    "from sklearn.naive_bayes import GaussianNB\n",
    "\n",
    "model = GaussianNB()\n",
    "model.fit(X_train, y_train)\n",
    "y_pred = model.predict(X_test)\n",
    "\n",
    "print(\"Naive Bayes Classifier\")\n",
    "print(classification_report(y_test, y_pred))"
   ]
  },
  {
   "cell_type": "markdown",
   "id": "77889c02",
   "metadata": {},
   "source": [
    "### Confusion Matrix for only classification models"
   ]
  },
  {
   "cell_type": "code",
   "execution_count": null,
   "id": "1edda209",
   "metadata": {},
   "outputs": [],
   "source": [
    "import seaborn as sns\n",
    "import matplotlib.pyplot as plt\n",
    "\n",
    "cm = confusion_matrix(y_test, y_pred)\n",
    "sns.heatmap(cm, annot=True, fmt='d', cmap='Blues')\n",
    "plt.xlabel(\"Predicted\")\n",
    "plt.ylabel(\"Actual\")\n",
    "plt.title(\"Confusion Matrix\")\n",
    "plt.show()"
   ]
  },
  {
   "cell_type": "markdown",
   "id": "d6bdb6cd",
   "metadata": {},
   "source": [
    "## Clustering \n",
    "###  Common Setup for Clustering"
   ]
  },
  {
   "cell_type": "code",
   "execution_count": null,
   "id": "e06a43c7",
   "metadata": {},
   "outputs": [],
   "source": [
    "from sklearn.preprocessing import StandardScaler\n",
    "from sklearn.metrics import silhouette_score\n",
    "from sklearn.cluster import KMeans\n",
    "\n",
    "X = df.copy() # Assume df contains only features (no target column)\n",
    "\n",
    "scaler = StandardScaler()\n",
    "X_scaled = scaler.fit_transform(X)\n"
   ]
  },
  {
   "cell_type": "markdown",
   "id": "a7aa7185",
   "metadata": {},
   "source": [
    "## To decide the optimal number of clusters (n), we use the elbow method and the silhouette score"
   ]
  },
  {
   "cell_type": "markdown",
   "id": "0ae68c59",
   "metadata": {},
   "source": [
    "#### Elbow Method: "
   ]
  },
  {
   "cell_type": "code",
   "execution_count": null,
   "id": "1736bf2d",
   "metadata": {},
   "outputs": [],
   "source": [
    "wcss = []\n",
    "K_range = range(2, 11)  # testing clusters from 2 to 10\n",
    "\n",
    "for k in K_range:\n",
    "    kmeans = KMeans(n_clusters=k, random_state=42)\n",
    "    kmeans.fit(X_scaled)\n",
    "    wcss.append(kmeans.inertia_)  # inertia_ is WCSS\n",
    "\n",
    "plt.figure(figsize=(8,4))\n",
    "plt.plot(K_range, wcss, 'bo-')\n",
    "plt.xlabel('Number of clusters (k)')\n",
    "plt.ylabel('Within-Cluster-Sum-of-Squares (WCSS)')\n",
    "plt.title('Elbow Method For Optimal k')\n",
    "plt.show()"
   ]
  },
  {
   "cell_type": "markdown",
   "id": "77a9622a",
   "metadata": {},
   "source": [
    "#### Silhouette Scores"
   ]
  },
  {
   "cell_type": "code",
   "execution_count": null,
   "id": "5ab9c997",
   "metadata": {},
   "outputs": [],
   "source": [
    "k =10\n",
    "sil_scores = []\n",
    "\n",
    "for k in K_range:\n",
    "    kmeans = KMeans(n_clusters=k, random_state=42)\n",
    "    cluster_labels = kmeans.fit_predict(X_scaled)\n",
    "    score = silhouette_score(X_scaled, cluster_labels)\n",
    "    sil_scores.append(score)\n",
    "\n",
    "plt.figure(figsize=(8,4))\n",
    "plt.plot(K_range, sil_scores, 'ro-')\n",
    "plt.xlabel('Number of clusters (k)')\n",
    "plt.ylabel('Silhouette Score')\n",
    "plt.title('Silhouette Method For Optimal k')\n",
    "plt.show()"
   ]
  },
  {
   "cell_type": "markdown",
   "id": "e843ab6a",
   "metadata": {},
   "source": [
    "### K-Means Clustering"
   ]
  },
  {
   "cell_type": "code",
   "execution_count": null,
   "id": "418b8ef4",
   "metadata": {},
   "outputs": [],
   "source": [
    "from sklearn.cluster import KMeans\n",
    "\n",
    "kmeans = KMeans(n_clusters=3, random_state=42)\n",
    "labels_kmeans = kmeans.fit_predict(X_scaled)\n",
    "\n",
    "print(\"K-Means Silhouette Score:\", silhouette_score(X_scaled, labels_kmeans))\n"
   ]
  },
  {
   "cell_type": "markdown",
   "id": "e95faa02",
   "metadata": {},
   "source": [
    "###  DBSCAN"
   ]
  },
  {
   "cell_type": "code",
   "execution_count": null,
   "id": "e7d4d582",
   "metadata": {},
   "outputs": [],
   "source": [
    "from sklearn.cluster import DBSCAN\n",
    "\n",
    "dbscan = DBSCAN(eps=0.5, min_samples=5)\n",
    "labels_dbscan = dbscan.fit_predict(X_scaled)\n",
    "\n",
    "print(\"DBSCAN Silhouette Score:\", silhouette_score(X_scaled, labels_dbscan))\n"
   ]
  }
 ],
 "metadata": {
  "kernelspec": {
   "display_name": "base",
   "language": "python",
   "name": "python3"
  },
  "language_info": {
   "codemirror_mode": {
    "name": "ipython",
    "version": 3
   },
   "file_extension": ".py",
   "mimetype": "text/x-python",
   "name": "python",
   "nbconvert_exporter": "python",
   "pygments_lexer": "ipython3",
   "version": "3.12.7"
  }
 },
 "nbformat": 4,
 "nbformat_minor": 5
}
